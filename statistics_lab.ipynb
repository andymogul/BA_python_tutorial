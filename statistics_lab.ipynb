{
 "cells": [
  {
   "cell_type": "markdown",
   "id": "7274c37b",
   "metadata": {},
   "source": [
    "# 1. Basics of Python\n",
    "\n",
    "## 1.1 Elementary Data Types\n",
    "\n",
    "| &nbsp;  |      Data Type    |   Example   |\n",
    "|:--------|:-----------------:|:------------|\n",
    "|Number   | Integer           | x = 4       |\n",
    "| &nbsp;  | Long integer      | x = 15L     |\n",
    "| &nbsp;  | Floating point    | x = 3.142   |\n",
    "| &nbsp;  | Boolean           | x = True    |\n",
    "|Text     | Character         | x = 'c'     |\n",
    "| &nbsp;  | String            | x = \\\"this\\\" or x = 'this' |"
   ]
  },
  {
   "cell_type": "code",
   "execution_count": 1,
   "id": "ab54a32b",
   "metadata": {},
   "outputs": [
    {
     "name": "stdout",
     "output_type": "stream",
     "text": [
      "4 <class 'int'>\n",
      "True <class 'bool'>\n",
      "3.7 <class 'float'>\n",
      "This is a string <class 'str'>\n"
     ]
    }
   ],
   "source": [
    "x = 4              # integer\n",
    "print(x, type(x))\n",
    "\n",
    "y = True           # boolean (True, False)\n",
    "print(y, type(y))\n",
    "\n",
    "z = 3.7            # floating point\n",
    "print(z, type(z))\n",
    "\n",
    "s = \"This is a string\"    # string\n",
    "print(s, type(s))"
   ]
  },
  {
   "cell_type": "markdown",
   "id": "abc23a3e",
   "metadata": {},
   "source": [
    "The following are some of the arithmetic operations available for manipulating integers and floating point numbers"
   ]
  },
  {
   "cell_type": "code",
   "execution_count": 2,
   "id": "3c7d453d",
   "metadata": {},
   "outputs": [
    {
     "name": "stdout",
     "output_type": "stream",
     "text": [
      "18 8 12 6 18 2\n",
      "3.7 1.7000000000000002 1.2333333333333334 1.0 13.690000000000001\n",
      "3.7 13.690000000000001 4 3\n"
     ]
    }
   ],
   "source": [
    "x = 4            # integer\n",
    "x1 = x + 4       # addition \n",
    "x2 = x * 3       # multiplication\n",
    "x += 2           # equivalent to x = x + 2\n",
    "x3 = x       \n",
    "x *= 3           # equivalent to x = x * 3\n",
    "x4 = x      \n",
    "x5 = x % 4       # modulo (remainder) operator\n",
    "\n",
    "z = 3.7          # floating point number\n",
    "z1 = z - 2       # subtraction\n",
    "z2 = z / 3       # division\n",
    "z3 = z // 3      # integer division\n",
    "z4 = z ** 2      # square of z \n",
    "z5 = z4 ** 0.5   # square root\n",
    "z6 = pow(z,2)    # equivalent to square of z\n",
    "z7 = round(z)    # rounding z to its nearest integer \n",
    "z8 = int(z)      # type casting float to int\n",
    "\n",
    "print(x,x1,x2,x3,x4,x5)\n",
    "print(z,z1,z2,z3,z4)\n",
    "print(z5,z6,z7,z8)"
   ]
  },
  {
   "cell_type": "markdown",
   "id": "7bcdc44e",
   "metadata": {},
   "source": [
    "The following are some of the functions provided by the math module for integers and floating point numbers"
   ]
  },
  {
   "cell_type": "code",
   "execution_count": 3,
   "id": "2ef2d799",
   "metadata": {},
   "outputs": [
    {
     "name": "stdout",
     "output_type": "stream",
     "text": [
      "2.0\n",
      "16.0\n",
      "54.598150033144236\n",
      "2.0\n",
      "4.0\n",
      "24\n",
      "1\n",
      "0\n",
      "0\n",
      "3.6739403974420594e-16\n",
      "0.9999999869751758\n",
      "True\n",
      "True\n"
     ]
    }
   ],
   "source": [
    "import math\n",
    "\n",
    "x = 4\n",
    "print(math.sqrt(x))      # sqrt(4) = 2\n",
    "print(math.pow(x,2))     # 4**2 = 16\n",
    "print(math.exp(x))       # exp(4) = 54.6\n",
    "print(math.log(x,2))     # log based 2  (default is natural logarithm)\n",
    "print(math.fabs(-4))     # absolute value\n",
    "print(math.factorial(x)) # 4! = 4 x 3 x 2 x 1 = 24\n",
    "\n",
    "z = 0.2\n",
    "print(math.ceil(z))      # ceiling function\n",
    "print(math.floor(z))     # floor function\n",
    "print(math.trunc(z))     # truncate function\n",
    "\n",
    "z = 3*math.pi            # math.pi = 3.141592653589793 \n",
    "print(math.sin(z))       # sine function\n",
    "print(math.tanh(z))      # arctan function\n",
    "\n",
    "x = math.nan             # not a number\n",
    "print(math.isnan(x))\n",
    "\n",
    "x = math.inf             # infinity\n",
    "print(math.isinf(x))"
   ]
  },
  {
   "cell_type": "markdown",
   "id": "d74ccbb9",
   "metadata": {},
   "source": [
    "The following are some of the logical operations available for booleans"
   ]
  },
  {
   "cell_type": "code",
   "execution_count": 4,
   "id": "b6d62ac1",
   "metadata": {},
   "outputs": [
    {
     "name": "stdout",
     "output_type": "stream",
     "text": [
      "False\n",
      "True\n",
      "True\n"
     ]
    }
   ],
   "source": [
    "y1 = True\n",
    "y2 = False\n",
    "\n",
    "print(y1 and y2)       # logical AND\n",
    "print(y1 or y2)        # logical OR\n",
    "print(y1 and not y2)   # logical NOT"
   ]
  },
  {
   "cell_type": "markdown",
   "id": "c2aca9e9",
   "metadata": {},
   "source": [
    "The following are some of the operations and functions for manipulating strings"
   ]
  },
  {
   "cell_type": "code",
   "execution_count": 5,
   "id": "077db03d",
   "metadata": {},
   "outputs": [
    {
     "name": "stdout",
     "output_type": "stream",
     "text": [
      "his\n",
      "4\n",
      "Length of string is 4\n",
      "THIS\n",
      "this\n",
      "This\n",
      "This is another string\n",
      "That at a string\n",
      "8\n",
      "True\n",
      "True\n",
      "False\n",
      "This is a string too\n",
      "This This This \n"
     ]
    }
   ],
   "source": [
    "s1 = \"This\"\n",
    "\n",
    "print(s1[1:])                    # print last three characters \n",
    "print(len(s1))                               # get the string length\n",
    "print(\"Length of string is \" + str(len(s1))) # type casting int to str\n",
    "print(s1.upper())                            # convert to upper case\n",
    "print(s1.lower())                            # convert to lower case\n",
    "\n",
    "s2 = \"This is a string\"\n",
    "words = s2.split(' ')             # split the string into words\n",
    "print(words[0])\n",
    "print(s2.replace('a','another'))  # replace \"a\" with \"another\"\n",
    "print(s2.replace('is','at'))      # replace \"is\" with \"at\"\n",
    "print(s2.find(\"a\"))               # find the position of \"a\" in s2\n",
    "print(s1 in s2)                   # check if s1 is a substring of s2\n",
    "\n",
    "print(s1 == 'This')               # equality comparison\n",
    "print(s1 < 'That')                # inequality comparison\n",
    "print(s2 + \" too\")                # string concatenation\n",
    "print((s1 + \" \")* 3)              # replicate the string 3 times"
   ]
  },
  {
   "cell_type": "markdown",
   "id": "26701fbb",
   "metadata": {},
   "source": [
    "## 1.2 Compound Data Types\n",
    "\n",
    "### 1.2.1 Python List [ ]\n",
    "\n",
    "List is an **ordered sequence** of items. It is one of the most used datatype in Python and is very flexible. All the items in a list do not need to be of the same type.\n",
    "\n",
    "Declaring a list is pretty straight forward. Items separated by commas are enclosed within brackets **[ ]**.\n",
    "\n",
    "We can use the slicing operator **[ ]** to extract an item or a range of items from a list. The index starts from 0 in Python."
   ]
  },
  {
   "cell_type": "code",
   "execution_count": 6,
   "id": "10f5fba4",
   "metadata": {},
   "outputs": [
    {
     "name": "stdout",
     "output_type": "stream",
     "text": [
      "[6, 99, 77, 'Apple'] is of type <class 'list'>\n"
     ]
    }
   ],
   "source": [
    "x = [6, 99, 77, 'Apple']\n",
    "print(x, \"is of type\", type(x))"
   ]
  },
  {
   "cell_type": "code",
   "execution_count": 7,
   "id": "d4347e30",
   "metadata": {},
   "outputs": [
    {
     "name": "stdout",
     "output_type": "stream",
     "text": [
      "a[2] =  15\n",
      "a[0:3] =  [5, 10, 15]\n",
      "a[5:] =  [30, 35, 40]\n"
     ]
    }
   ],
   "source": [
    "a = [5, 10, 15, 20, 25, 30, 35, 40]  # Total elemnets is 8\n",
    "#   [0   1   2   3   4   5   6   7]  ⬅ Index forward\n",
    "#   [-8 -7  -6  -5  -4  -3  -2  -1]  ➡ Index backward\n",
    "\n",
    "# index '0' is element '1' = 5,\n",
    "# index '1' is element '2' = 10,\n",
    "# index '2' is element '3' = 15,\n",
    "# .\n",
    "# .\n",
    "# .\n",
    "# index '7' is element '8' = 40,\n",
    "\n",
    "a[1] # To access the elements in the list\n",
    "    \n",
    "# a[2] = 15\n",
    "print(\"a[2] = \", a[2])\n",
    "\n",
    "# a[0:3] = [5, 10, 15]\n",
    "print(\"a[0:3] = \", a[0:3])  # [0:3] means elements from 0 uptil 2 index (not include last element)\n",
    "                            # [0:3] means from index 0 to 3 - 1 \n",
    "                            # [0:3] means from index 0 to 2\n",
    "    \n",
    "# a[5:] = [30, 35, 40]  # [5:] means all the elements from 5 till end\n",
    "print(\"a[5:] = \", a[5:])"
   ]
  },
  {
   "cell_type": "code",
   "execution_count": 8,
   "id": "39b80317",
   "metadata": {},
   "outputs": [
    {
     "data": {
      "text/plain": [
       "[10, 15, 20, 25, 30]"
      ]
     },
     "execution_count": 8,
     "metadata": {},
     "output_type": "execute_result"
    }
   ],
   "source": [
    "a[1:-2]"
   ]
  },
  {
   "cell_type": "code",
   "execution_count": 9,
   "id": "3246ae93",
   "metadata": {},
   "outputs": [
    {
     "data": {
      "text/plain": [
       "[30, 35, 40]"
      ]
     },
     "execution_count": 9,
     "metadata": {},
     "output_type": "execute_result"
    }
   ],
   "source": [
    "a[5:9]"
   ]
  },
  {
   "cell_type": "code",
   "execution_count": 10,
   "id": "82d6c0f6",
   "metadata": {},
   "outputs": [
    {
     "data": {
      "text/plain": [
       "[5, 10, 15, 20, 25]"
      ]
     },
     "execution_count": 10,
     "metadata": {},
     "output_type": "execute_result"
    }
   ],
   "source": [
    "a[:5]"
   ]
  },
  {
   "cell_type": "markdown",
   "id": "d77755e2",
   "metadata": {},
   "source": [
    "Lists are **mutable**, meaning, the value of elements of a list can be altered."
   ]
  },
  {
   "cell_type": "code",
   "execution_count": 11,
   "id": "2126e039",
   "metadata": {},
   "outputs": [
    {
     "name": "stdout",
     "output_type": "stream",
     "text": [
      "[1, 2, 4]\n"
     ]
    }
   ],
   "source": [
    "# Change the element of the List\n",
    "a = [1, 2, 3]\n",
    "#   [0  1  2] ➡ Index forward\n",
    "\n",
    "a[2] = 4  # Change my third element from '3' to '4' # [2] is the index number\n",
    "print(a)"
   ]
  },
  {
   "cell_type": "markdown",
   "id": "0f06370f",
   "metadata": {},
   "source": [
    "## 1.3 Python Operators\n",
    "\n",
    "Python can be used like a calculator. Simply type in expressions to get them evaluated.\n",
    "\n",
    "**What are operators in python?**\n",
    "\n",
    "Operators are special **symbols** in Python that carry out **arithmetic** or **logical computation**. The value that the operator operates on is called the **operand**.\n",
    "\n",
    "For example:\n",
    "\n",
    "'6+3'\n",
    "\n",
    "9\n",
    "Here, **+** is the operator that performs addition. 2 and 3 are the operands and 5 is the output of the **operation**."
   ]
  },
  {
   "cell_type": "code",
   "execution_count": 12,
   "id": "8f597836",
   "metadata": {},
   "outputs": [
    {
     "data": {
      "text/plain": [
       "9"
      ]
     },
     "execution_count": 12,
     "metadata": {},
     "output_type": "execute_result"
    }
   ],
   "source": [
    "6+3"
   ]
  },
  {
   "cell_type": "markdown",
   "id": "c88484d9",
   "metadata": {},
   "source": [
    "### 1.3.1 Arithmatic Operators\n",
    "\n",
    "Arithmetic operators are used to perform mathematical operations like addition, subtraction, multiplication etc.\n",
    "\n",
    "| **Symbol** | **Task Performed**     |                                   **Meaning**                                   |              **Example**              |\n",
    "|:----------:|------------------------|:-------------------------------------------------------------------------------:|:-------------------------------------:|\n",
    "|      +     | Addition               |                          add two operands or unary plus                         |          **x + y** or +**2**          |\n",
    "|      -     | Subtraction            |               substract right operand from the left or unary minus              |          **x - y** or **-2**          |\n",
    "|      *     | Multiplication         |                              Multiply two operands                              |               **x * y**               |\n",
    "|      /     | Division               |         Divide left operand by the right one (always results into float)        |               **x / y**               |\n",
    "|      %     | Modulus (remainder)    |              remainder of the division of left operand by the right             |    **x % y** (remainder of **x/y**)   |\n",
    "|     //     | Integer/Floor division | division that results into whole number adjusted to the left in the number line |               **x // y**              |\n",
    "|     **     | Exponentiation (power) |                    left operand raised to the power of right                    | **x ** y** (**x** to the power **y**) |\n",
    "\n",
    "As expected these operations generally promote to the most general type of any of the numbers involved i.e. int -> float -> complex."
   ]
  },
  {
   "cell_type": "code",
   "execution_count": 13,
   "id": "59d307cb",
   "metadata": {},
   "outputs": [
    {
     "name": "stdout",
     "output_type": "stream",
     "text": [
      "Addition:  3\n",
      "Subtraction:  1\n",
      "Multiplication:  6\n",
      "Division:  2.0\n",
      "Division:  3.0\n",
      "Division:  3.5\n",
      "Division without the remainder:  3\n",
      "Modulus:  1\n",
      "Division without the remainder:  2\n",
      "Exponential:  9\n"
     ]
    }
   ],
   "source": [
    "print('Addition: ', 1 + 2)\n",
    "print('Subtraction: ', 2 - 1)\n",
    "print('Multiplication: ', 2 * 3)\n",
    "print ('Division: ', 4 / 2)                         # Division in python gives floating number\n",
    "print('Division: ', 6 / 2)\n",
    "print('Division: ', 7 / 2)\n",
    "print('Division without the remainder: ', 7 // 2)   # gives without the floating number or without the remaining\n",
    "print('Modulus: ', 3 % 2)                           # Gives the remainder\n",
    "print ('Division without the remainder: ',7 // 3)\n",
    "print('Exponential: ', 3 ** 2)                      # it means 3 * 3"
   ]
  },
  {
   "cell_type": "code",
   "execution_count": 14,
   "id": "45baba15",
   "metadata": {},
   "outputs": [
    {
     "name": "stdout",
     "output_type": "stream",
     "text": [
      "x + y = 19\n",
      "x - y = 13\n",
      "x * y = 48\n",
      "x / y = 5.333333333333333\n",
      "x // y = 5\n"
     ]
    }
   ],
   "source": [
    "x = 16\n",
    "y = 3\n",
    "\n",
    "print('x + y =',x+y) # 19\n",
    "print('x - y =',x-y) # 13\n",
    "print('x * y =',x*y) # 48\n",
    "print('x / y =',x/y) # 5.333\n",
    "print('x // y =',x//y) # 519"
   ]
  },
  {
   "cell_type": "markdown",
   "id": "4e530710",
   "metadata": {},
   "source": [
    "### 1.3.2 Comparison/Relational operators\n",
    "\n",
    "Comparison operators are used to **compare values**. It either returns **True** or **False** according to the **condition**.\n",
    "\n",
    "| **Symbol** | **Task Performed**       | **Meaning**                                                | **Example** |\n",
    "|:----------:|--------------------------|------------------------------------------------------------|:-----------:|\n",
    "|      >     | greater than             | True if left operand is greater than the right             |  **x > y**  |\n",
    "|      <     | less than                | True if left operand is less than the right                |  **x < y**  |\n",
    "|     ==     | equal to                 | True if both operands are equal                            |  **x == y** |\n",
    "|     !=     | not equal to             | True if both operands are not equal                        |  **x != y** |\n",
    "|     >=     | greater than or equal to | True if left operand is greater than or equal to the right |  **x >= y** |\n",
    "|     <=     | less than or equal to    | True if left operand is less than or equal to the right    |  **x <= y** |\n",
    "\n",
    "[Caution] Note the difference between **==** (equality test) and **=** (assignment)"
   ]
  },
  {
   "cell_type": "code",
   "execution_count": 15,
   "id": "80788055",
   "metadata": {},
   "outputs": [
    {
     "name": "stdout",
     "output_type": "stream",
     "text": [
      "True\n",
      "True\n",
      "False\n",
      "True\n",
      "True\n",
      "False\n",
      "True\n",
      "False\n",
      "True\n",
      "True\n",
      "False\n",
      "True\n",
      "True\n",
      "False\n"
     ]
    }
   ],
   "source": [
    "print(6 > 3)                           # True, because 3 is greater than 2\n",
    "print(6 >= 3)                          # True, because 3 is greater than 2\n",
    "print(6 < 3)                           # False,  because 3 is greater than 2\n",
    "print(3 < 6)                           # True, because 2 is less than 3\n",
    "print(3 <= 6)                          # True, because 2 is less than 3\n",
    "print(6 == 3)                          # False, because 3 is not equal to 2\n",
    "print(6 != 3)                          # True, because 3 is not equal to 2\n",
    "print(len(\"apple\") == len(\"avocado\"))  # False\n",
    "print(len(\"apple\") != len(\"avocado\"))  # True\n",
    "print(len(\"apple\") < len(\"avocado\"))   # True\n",
    "print(len(\"banana\") != len(\"orange\"))  # False\n",
    "print(len(\"banana\") == len(\"orange\"))  # True\n",
    "print(len(\"tomato\") == len(\"potato\"))  # True\n",
    "print(len(\"python\") > len(\"coding\"))   # False"
   ]
  },
  {
   "cell_type": "code",
   "execution_count": 16,
   "id": "ca7222cd",
   "metadata": {},
   "outputs": [
    {
     "name": "stdout",
     "output_type": "stream",
     "text": [
      "x > y is True\n",
      "x < y is False\n",
      "x >= y is True\n",
      "x <= y is False\n"
     ]
    }
   ],
   "source": [
    "x = 30\n",
    "y = 22\n",
    "\n",
    "print('x > y is',x>y)   # False\n",
    "print('x < y is',x<y)   # True\n",
    "print('x >= y is',x>=y) # False\n",
    "print('x <= y is',x<=y) # True"
   ]
  },
  {
   "cell_type": "markdown",
   "id": "9c390703",
   "metadata": {},
   "source": [
    "### 1.3.3 Logical/Boolean operators\n",
    "\n",
    "Logical operators are the **and**, **or**, **not** operators.\n",
    "\n",
    "| **Symbol** |                     **Meaning**                     | **Example** |\n",
    "|:----------:|:---------------------------------------------------:|:-----------:|\n",
    "|     and    |          True if both the operands are true         | **x and y** |\n",
    "|     or     |        True if either of the operand is true        |  **x or y** |\n",
    "|     not    | True if operand are false (complements the operand) |  **not x**  |"
   ]
  },
  {
   "cell_type": "code",
   "execution_count": 17,
   "id": "edd60600",
   "metadata": {},
   "outputs": [
    {
     "name": "stdout",
     "output_type": "stream",
     "text": [
      "True == True:  True\n",
      "True == False:  False\n",
      "False == False: True\n",
      "True and True:  True\n",
      "True or False: True\n"
     ]
    }
   ],
   "source": [
    "print('True == True: ', True == True)\n",
    "print('True == False: ', True == False)\n",
    "print('False == False:', False == False)\n",
    "print('True and True: ', True and True)\n",
    "print('True or False:', True or False)"
   ]
  },
  {
   "cell_type": "code",
   "execution_count": 18,
   "id": "b531672e",
   "metadata": {},
   "outputs": [
    {
     "name": "stdout",
     "output_type": "stream",
     "text": [
      "1 is 1 True\n",
      "1 is not 2 True\n",
      "A in Milaan False\n",
      "B in Milaan False\n",
      "True\n",
      "a in an: True\n",
      "27 is 3 ** 3: True\n"
     ]
    },
    {
     "name": "stderr",
     "output_type": "stream",
     "text": [
      "<>:3: SyntaxWarning: \"is\" with a literal. Did you mean \"==\"?\n",
      "<>:4: SyntaxWarning: \"is not\" with a literal. Did you mean \"!=\"?\n",
      "<>:9: SyntaxWarning: \"is\" with a literal. Did you mean \"==\"?\n",
      "<>:3: SyntaxWarning: \"is\" with a literal. Did you mean \"==\"?\n",
      "<>:4: SyntaxWarning: \"is not\" with a literal. Did you mean \"!=\"?\n",
      "<>:9: SyntaxWarning: \"is\" with a literal. Did you mean \"==\"?\n",
      "C:\\Users\\andym\\AppData\\Local\\Temp\\ipykernel_5920\\3673234325.py:3: SyntaxWarning: \"is\" with a literal. Did you mean \"==\"?\n",
      "  print('1 is 1', 1 is 1)                  # True  - because the data values are the same\n",
      "C:\\Users\\andym\\AppData\\Local\\Temp\\ipykernel_5920\\3673234325.py:4: SyntaxWarning: \"is not\" with a literal. Did you mean \"!=\"?\n",
      "  print('1 is not 2', 1 is not 2)          # True  - because 1 is not 2\n",
      "C:\\Users\\andym\\AppData\\Local\\Temp\\ipykernel_5920\\3673234325.py:9: SyntaxWarning: \"is\" with a literal. Did you mean \"==\"?\n",
      "  print('27 is 3 ** 3:', 27 is 3**3)       # True\n"
     ]
    }
   ],
   "source": [
    "# Another way comparison \n",
    "\n",
    "print('1 is 1', 1 is 1)                  # True  - because the data values are the same\n",
    "print('1 is not 2', 1 is not 2)          # True  - because 1 is not 2\n",
    "print('A in Milaan', 'A' in 'Milaan')    # True  - A found in the string\n",
    "print('B in Milaan', 'B' in 'Milaan')    # False - there is no uppercase B\n",
    "print('python' in 'python is fun')       # True  - because coding for all has the word coding\n",
    "print('a in an:', 'a' in 'an')           # True\n",
    "print('27 is 3 ** 3:', 27 is 3**3)       # True"
   ]
  },
  {
   "cell_type": "markdown",
   "id": "bd10d9fa",
   "metadata": {},
   "source": [
    "### 1.3.4 Assignment operators\n",
    "\n",
    "Assignment operators are used in Python to **assign values** to **variables**.\n",
    "\n",
    "**a = 5** is a simple assignment operator that assigns the value 5 on the right to the variable **a** on the left.\n",
    "\n",
    "There are various compound operators in Python like **a += 5** that adds to the variable and later assigns the same. It is equivalent to **a = a + 5**.\n",
    "\n",
    "| **Symbol** | **Example** | **Equivalent to** |\n",
    "|:----------:|:-----------:|:-----------------:|\n",
    "|      =     |  **x = 5**  |     **x = 5**     |\n",
    "|     +=     |  **x += 5** |   **x = x + 5**   |\n",
    "|     -=     |  **x -= 5** |   **x = x - 5**   |\n",
    "|     *=     |  **x *= 5** |   **x = x * 5**   |\n",
    "|     /=     |  **x /= 5** |   **x = x / 5**   |\n",
    "|     %=     |  **x %= 5** |   **x = x % 5**   |\n",
    "|     //=    | **x //= 5** |   **x = x // 5**  |\n",
    "|     **=    | **x **= 5** |   **x = x ** 5**  |\n",
    "|     &=     |  **x &= 5** |   **x = x & 5**   |\n",
    "|     \\|=    | **x \\|= 5** |   **x = x \\| 5**  |\n",
    "|     ^=     |  **x ^= 5** |   **x = x ^ 5**   |\n",
    "|     >>=    | **x >>= 5** |   **x = x >> 5**  |\n",
    "|     <<=    | **x <<= 5** |   **x = x << 5**  |\n",
    "\n",
    "The binary operators can be combined with assignment to modify a variable value. For example:"
   ]
  },
  {
   "cell_type": "code",
   "execution_count": 19,
   "id": "373b8217",
   "metadata": {},
   "outputs": [
    {
     "name": "stdout",
     "output_type": "stream",
     "text": [
      "x is 3\n",
      "x is 12\n",
      "x is 144\n"
     ]
    }
   ],
   "source": [
    "x = 1\n",
    "x += 2 # add 2 to x\n",
    "print(\"x is\",x)\n",
    "x <<= 2 # left shift by 2 (equivalent to x *= 4)\n",
    "print('x is',x)\n",
    "x **= 2 # x := x^2\n",
    "print('x is',x)"
   ]
  },
  {
   "cell_type": "markdown",
   "id": "9e32f118",
   "metadata": {},
   "source": [
    "## 1.4 Control Flow Statements\n",
    "\n",
    "Similar to other programming languages, the control flow statements in Python include **if-else**, **for**, and **while** statements. Examples on how to use these statements are shown below."
   ]
  },
  {
   "cell_type": "code",
   "execution_count": 20,
   "id": "7240ccdb",
   "metadata": {},
   "outputs": [
    {
     "name": "stdout",
     "output_type": "stream",
     "text": [
      "x = 10 is even\n",
      "x = 10 is positive\n"
     ]
    }
   ],
   "source": [
    "# using if-else statement\n",
    "\n",
    "x = 10\n",
    "\n",
    "if x % 2 == 0:\n",
    "    print(\"x =\", x, \"is even\")\n",
    "else:\n",
    "    print(\"x =\", x, \"is odd\")\n",
    "\n",
    "if x > 0:\n",
    "    print(\"x =\", x, \"is positive\")\n",
    "elif x < 0:\n",
    "    print(\"x =\", x, \"is negative\")\n",
    "else:\n",
    "    print(\"x =\", x, \"is neither positive nor negative\")"
   ]
  },
  {
   "cell_type": "code",
   "execution_count": 21,
   "id": "81172504",
   "metadata": {},
   "outputs": [
    {
     "name": "stdout",
     "output_type": "stream",
     "text": [
      "that\n",
      "at\n",
      "a\n",
      "latt\n",
      "[4, 2, 1, 4]\n",
      "['Austin', 'Lansing', 'Sacramento']\n",
      "['apples', 'oranges', 'bananas', 'cherries']\n"
     ]
    }
   ],
   "source": [
    "# using for loop with a list\n",
    "\n",
    "mylist = ['this', 'is', 'a', 'list']\n",
    "for word in mylist:\n",
    "    print(word.replace(\"is\", \"at\"))\n",
    "    \n",
    "mylist2 = [len(word) for word in mylist]   # number of characters in each word\n",
    "print(mylist2)\n",
    "\n",
    "# using for loop with list of tuples\n",
    "\n",
    "states = [('MI', 'Michigan', 'Lansing'),('CA', 'California', 'Sacramento'),\n",
    "          ('TX', 'Texas', 'Austin')]\n",
    "\n",
    "sorted_capitals = [state[2] for state in states]\n",
    "sorted_capitals.sort()\n",
    "print(sorted_capitals)\n",
    "\n",
    "# using for loop with dictionary\n",
    "\n",
    "fruits = {'apples': 3, 'oranges': 4, 'bananas': 2, 'cherries': 10}\n",
    "fruitnames = [k for (k,v) in fruits.items()]\n",
    "print(fruitnames)"
   ]
  },
  {
   "cell_type": "code",
   "execution_count": 22,
   "id": "be211365",
   "metadata": {},
   "outputs": [
    {
     "name": "stdout",
     "output_type": "stream",
     "text": [
      "[-10, -9, -8, -7, -6, -5, -4, -3, -2, -1, 0, 1, 2, 3, 4, 5, 6, 7, 8, 9]\n",
      "First non-negative number: 0\n"
     ]
    }
   ],
   "source": [
    "# using while loop\n",
    "\n",
    "mylist = list(range(-10,10))\n",
    "print(mylist)\n",
    "\n",
    "i = 0\n",
    "while (mylist[i] < 0):\n",
    "    i = i + 1\n",
    "    \n",
    "print(\"First non-negative number:\", mylist[i])"
   ]
  },
  {
   "cell_type": "markdown",
   "id": "e8c4e553",
   "metadata": {},
   "source": [
    "## 1.5 User-Defined functions\n",
    "\n",
    "You can create your own functions in Python, which can be named or unnamed. Unnamed functions are defined using the lambda keyword as shown in the previous example for sorting a list of tuples."
   ]
  },
  {
   "cell_type": "code",
   "execution_count": 23,
   "id": "70df026a",
   "metadata": {},
   "outputs": [
    {
     "name": "stdout",
     "output_type": "stream",
     "text": [
      "11\n"
     ]
    }
   ],
   "source": [
    "myfunc = lambda x: 3*x**2 - 2*x + 3      # example of an unnamed quadratic function\n",
    "\n",
    "print(myfunc(2))"
   ]
  },
  {
   "cell_type": "code",
   "execution_count": 24,
   "id": "59f4c84e",
   "metadata": {},
   "outputs": [
    {
     "name": "stdout",
     "output_type": "stream",
     "text": [
      "[-11, 12, 23, 45, 71]\n"
     ]
    }
   ],
   "source": [
    "import math\n",
    "\n",
    "# The following function will discard missing values from a list\n",
    "def discard(inlist, sortFlag=False):    # default value for sortFlag is False \n",
    "    outlist = []\n",
    "    for item in inlist:\n",
    "        if not math.isnan(item):\n",
    "            outlist.append(item)\n",
    "            \n",
    "    if sortFlag:\n",
    "        outlist.sort()\n",
    "    return outlist\n",
    "\n",
    "mylist = [12, math.nan, 23, -11, 45, math.nan, 71]\n",
    "\n",
    "print(discard(mylist,True))   "
   ]
  },
  {
   "cell_type": "markdown",
   "id": "49603066",
   "metadata": {},
   "source": [
    "## 1.6 File I/O\n",
    "\n",
    "You can read and write data from a list or other objects to a file.\n",
    "Below is the basic way to read and write data.\n",
    "For data science, you can also use data reading modules from numpy or pandas package for reading excel files, but we will learn about these later"
   ]
  },
  {
   "cell_type": "code",
   "execution_count": 25,
   "id": "57a2ca4f",
   "metadata": {},
   "outputs": [
    {
     "name": "stdout",
     "output_type": "stream",
     "text": [
      "State= Michigan ( MI ) Capital: Lansing\n",
      "\n",
      "State= California ( CA ) Capital: Sacramento\n",
      "\n",
      "State= Texas ( TX ) Capital: Austin\n",
      "\n",
      "State= Minnesota ( MN ) Capital: St Paul\n"
     ]
    }
   ],
   "source": [
    "states = [('MI', 'Michigan', 'Lansing'),('CA', 'California', 'Sacramento'),\n",
    "          ('TX', 'Texas', 'Austin'), ('MN', 'Minnesota', 'St Paul')]\n",
    "\n",
    "with open('states.txt', 'w') as f:\n",
    "    f.write('\\n'.join('%s,%s,%s' % state for state in states))\n",
    "    \n",
    "with open('states.txt', 'r') as f:\n",
    "    for line in f:\n",
    "        fields = line.split(sep=',')    # split each line into its respective fields\n",
    "        print('State=',fields[1],'(',fields[0],')','Capital:', fields[2])"
   ]
  },
  {
   "cell_type": "markdown",
   "id": "ce5a4c01",
   "metadata": {},
   "source": [
    "# 2. NumPy\n",
    "\n",
    "**NumPy** (Numerical Python) is an open source Python library that’s used in almost every field of science and engineering. It’s the universal standard for working with numerical data in Python, and it’s at the core of the scientific Python and PyData ecosystems. NumPy users include everyone from beginning coders to experienced researchers doing state-of-the-art scientific and industrial research and development. The NumPy API is used extensively in Pandas, SciPy, Matplotlib, scikit-learn, scikit-image and most other data science and scientific Python packages.\n",
    "\n",
    "The **NumPy** library contains multidimensional array and matrix data structures (you’ll find more information about this in later sections). It provides ndarray, a homogeneous n-dimensional array object, with methods to efficiently operate on it. **NumPy** can be used to perform a wide variety of mathematical operations on arrays. It adds powerful data structures to Python that guarantee efficient calculations with arrays and matrices and it supplies an enormous library of high-level mathematical functions that operate on these arrays and matrices."
   ]
  },
  {
   "cell_type": "markdown",
   "id": "cc319455",
   "metadata": {},
   "source": [
    "## 2.1. How to use NumPy\n",
    "\n",
    "**import** means that you will use some library\n",
    "\n",
    "To access NumPy and its functions **import** it in your Python code like this:"
   ]
  },
  {
   "cell_type": "code",
   "execution_count": 26,
   "id": "70be0e10",
   "metadata": {},
   "outputs": [],
   "source": [
    "import numpy as np"
   ]
  },
  {
   "cell_type": "markdown",
   "id": "5194e4fe",
   "metadata": {},
   "source": [
    "We shorten the imported name to `np` for better readability of code using NumPy. This is a widely adopted convention that makes your code more readable for everyone working on it. We recommend to always use import numpy as `np`."
   ]
  },
  {
   "cell_type": "markdown",
   "id": "b64c948a",
   "metadata": {},
   "source": [
    "## 2.2 NumPy array\n",
    "\n",
    "### 2.2.1 What’s the difference between a Python list and a NumPy array?\n",
    "\n",
    "NumPy gives you an enormous range of fast and efficient ways of creating arrays and manipulating numerical data inside them. While a **Python list** can contain different data types within a single list, all of the elements in a **NumPy array** should be homogeneous. The mathematical operations that are meant to be performed on arrays would be extremely inefficient if the arrays weren’t homogeneous.\n",
    "\n",
    "**Why use NumPy?**\n",
    "\n",
    "**NumPy arrays** are faster and more compact than Python lists. An array consumes less memory and is convenient to use. NumPy uses much less memory to store data and it provides a mechanism of specifying the data types. This allows the code to be optimized even further.\n",
    "\n",
    "### 2.2.2 What is an array?\n",
    "\n",
    "An **array** is a central data structure of the NumPy library. An array is a grid of values and it contains information about the raw data, how to locate an element, and how to interpret an element. It has a grid of elements that can be indexed in various ways. The elements are all of the same type, referred to as the array `dtype`.\n",
    "\n",
    "An array can be indexed by a tuple of nonnegative integers, by booleans, by another array, or by integers. The `rank` of the array is the number of dimensions. The `shape` of the array is a tuple of integers giving the size of the array along each dimension.\n",
    "\n",
    "One way we can initialize NumPy arrays is from Python lists, using nested lists for two- or higher-dimensional data.\n",
    "\n",
    "For example:"
   ]
  },
  {
   "cell_type": "code",
   "execution_count": 27,
   "id": "c393e5a4",
   "metadata": {},
   "outputs": [],
   "source": [
    "a = np.array([1, 2, 3, 4, 5, 6])"
   ]
  },
  {
   "cell_type": "markdown",
   "id": "452fcff2",
   "metadata": {},
   "source": [
    "or"
   ]
  },
  {
   "cell_type": "code",
   "execution_count": 28,
   "id": "8d2e985b",
   "metadata": {},
   "outputs": [],
   "source": [
    "a = np.array([[1, 2, 3, 4], [5, 6, 7, 8], [9, 10, 11, 12]])"
   ]
  },
  {
   "cell_type": "markdown",
   "id": "78b1182e",
   "metadata": {},
   "source": [
    "We can access the elements in the array using **square brackets**. When you’re accessing elements, remember that indexing in NumPy starts at 0. That means that if you want to access the **first element** in your array, you’ll be accessing **element “0”**."
   ]
  },
  {
   "cell_type": "code",
   "execution_count": 29,
   "id": "4a42735a",
   "metadata": {},
   "outputs": [
    {
     "name": "stdout",
     "output_type": "stream",
     "text": [
      "[1 2 3 4]\n"
     ]
    }
   ],
   "source": [
    "print(a[0])"
   ]
  },
  {
   "cell_type": "markdown",
   "id": "bd928ef2",
   "metadata": {},
   "source": [
    "### 2.2.3. ndarray\n",
    "\n",
    "'ndarray' is shorthand for N-dimensional array. An N-dimensional array is simply an array with any number of dimensions. (N=1,2,3,...)\n",
    "The NumPy `ndarray` class is used to represent both matrices and vectors. A **vector** is an array with a single dimension (there’s no difference between row and column vectors), while a **matrix** refers to an array with two dimensions.\n",
    "\n",
    "**What are the attributes of an array?**\n",
    "\n",
    "An `array` is usually a fixed-size container of items of the same type and size. The number of dimensions and items in an array is defined by its **shape**. The **shape** of an array is a tuple of non-negative integers that specify the sizes of each dimension.\n",
    "\n",
    "In NumPy, dimensions are called **axes**. This means that if you have a 2D array that looks like this:"
   ]
  },
  {
   "cell_type": "code",
   "execution_count": 30,
   "id": "604a7bce",
   "metadata": {},
   "outputs": [
    {
     "name": "stdout",
     "output_type": "stream",
     "text": [
      "[[0. 0. 0.]\n",
      " [1. 1. 1.]]\n"
     ]
    }
   ],
   "source": [
    "a = np.array([[0., 0., 0.],\n",
    "              [1., 1., 1.]])\n",
    "print(a)"
   ]
  },
  {
   "cell_type": "markdown",
   "id": "ef78cec3",
   "metadata": {},
   "source": [
    "Your array has **2 axes**. The first axis has a length of 2 and the second axis has a length of 3.\n",
    "\n",
    "Just like in other Python container objects, the contents of an array can be accessed and modified by **indexing** or **slicing** the array."
   ]
  },
  {
   "cell_type": "markdown",
   "id": "f4387090",
   "metadata": {},
   "source": [
    "### 2.2.4. How to create a basic array\n",
    "\n",
    "This section covers `np.array()`, `np.zeros()`, `np.ones()`, `np.empty()`, `np.arange()`, `np.linspace()`\n",
    "\n",
    "To create a NumPy array, you can use the function `np.array()`.\n",
    "\n",
    "All you need to do to create a simple array is pass a list to it. If you choose to, you can also specify the type of data in your list."
   ]
  },
  {
   "cell_type": "code",
   "execution_count": 31,
   "id": "e44b122f",
   "metadata": {},
   "outputs": [],
   "source": [
    "import numpy as np\n",
    "\n",
    "a = np.array([1, 2, 3])"
   ]
  },
  {
   "cell_type": "markdown",
   "id": "662f2d25",
   "metadata": {},
   "source": [
    "You can visualize your array this way:\n",
    "\n",
    "![](https://numpy.org/doc/stable/_images/np_array.png)\n",
    "\n",
    "Besides creating an array from a sequence of elements, you can easily create an array filled with `0`s using `np.zeros()`:"
   ]
  },
  {
   "cell_type": "code",
   "execution_count": 32,
   "id": "63436f6b",
   "metadata": {},
   "outputs": [
    {
     "data": {
      "text/plain": [
       "array([0., 0.])"
      ]
     },
     "execution_count": 32,
     "metadata": {},
     "output_type": "execute_result"
    }
   ],
   "source": [
    "np.zeros(2)"
   ]
  },
  {
   "cell_type": "markdown",
   "id": "ad87fe51",
   "metadata": {},
   "source": [
    "Or an array filled with `1`s using `np.ones(2)`:"
   ]
  },
  {
   "cell_type": "code",
   "execution_count": 33,
   "id": "ef60d319",
   "metadata": {},
   "outputs": [
    {
     "data": {
      "text/plain": [
       "array([1., 1.])"
      ]
     },
     "execution_count": 33,
     "metadata": {},
     "output_type": "execute_result"
    }
   ],
   "source": [
    "np.ones(2)"
   ]
  },
  {
   "cell_type": "markdown",
   "id": "62ff4729",
   "metadata": {},
   "source": [
    "You can create an array with a range of elements using `np.arange()` (0~N):"
   ]
  },
  {
   "cell_type": "code",
   "execution_count": 34,
   "id": "4c81aa97",
   "metadata": {},
   "outputs": [
    {
     "data": {
      "text/plain": [
       "array([0, 1, 2, 3])"
      ]
     },
     "execution_count": 34,
     "metadata": {},
     "output_type": "execute_result"
    }
   ],
   "source": [
    "np.arange(4)"
   ]
  },
  {
   "cell_type": "markdown",
   "id": "33b44ff5",
   "metadata": {},
   "source": [
    "### 2.2.5. Adding, removing, and sorting elements\n",
    "\n",
    "This section covers `np.sort()`, `np.concatenate()`\n",
    "\n",
    "Sorting an element is simple with `np.sort()`. You can specify the axis, kind, and order when you call the function.\n",
    "\n",
    "If you start with this array:"
   ]
  },
  {
   "cell_type": "code",
   "execution_count": 35,
   "id": "3f454505",
   "metadata": {},
   "outputs": [],
   "source": [
    "arr = np.array([2, 1, 5, 3, 7, 4, 6, 8])"
   ]
  },
  {
   "cell_type": "markdown",
   "id": "cc3d3037",
   "metadata": {},
   "source": [
    "You can quickly sort the numbers in ascending order with:"
   ]
  },
  {
   "cell_type": "code",
   "execution_count": 36,
   "id": "a33e4ddb",
   "metadata": {},
   "outputs": [
    {
     "data": {
      "text/plain": [
       "array([1, 2, 3, 4, 5, 6, 7, 8])"
      ]
     },
     "execution_count": 36,
     "metadata": {},
     "output_type": "execute_result"
    }
   ],
   "source": [
    "np.sort(arr)"
   ]
  },
  {
   "cell_type": "markdown",
   "id": "32444d97",
   "metadata": {},
   "source": [
    "If you start with these arrays:"
   ]
  },
  {
   "cell_type": "code",
   "execution_count": 37,
   "id": "17fbf873",
   "metadata": {},
   "outputs": [],
   "source": [
    "a = np.array([1, 2, 3, 4])\n",
    "b = np.array([5, 6, 7, 8])"
   ]
  },
  {
   "cell_type": "markdown",
   "id": "c7235372",
   "metadata": {},
   "source": [
    "You can concatenate them with `np.concatenate()`."
   ]
  },
  {
   "cell_type": "code",
   "execution_count": 38,
   "id": "0a2b749d",
   "metadata": {},
   "outputs": [
    {
     "data": {
      "text/plain": [
       "array([1, 2, 3, 4, 5, 6, 7, 8])"
      ]
     },
     "execution_count": 38,
     "metadata": {},
     "output_type": "execute_result"
    }
   ],
   "source": [
    "np.concatenate((a, b))"
   ]
  },
  {
   "cell_type": "markdown",
   "id": "e38638eb",
   "metadata": {},
   "source": [
    "### 2.2.6. How do you know the shape and size of an array?\n",
    "\n",
    "This section covers `ndarray.ndim`, `ndarray.size`, `ndarray.shape`\n",
    "\n",
    "`ndarray.ndim` will tell you the number of axes, or dimensions, of the array.\n",
    "\n",
    "`ndarray.size` will tell you the total number of elements of the array. This is the product of the elements of the array’s shape.\n",
    "\n",
    "`ndarray.shape` will display a tuple of integers that indicate the number of elements stored along each dimension of the array. If, for example, you have a 2-D array with 2 rows and 3 columns, the shape of your array is `(2, 3)`.\n",
    "\n",
    "For example, if you create this array:"
   ]
  },
  {
   "cell_type": "code",
   "execution_count": 39,
   "id": "653d1cff",
   "metadata": {},
   "outputs": [],
   "source": [
    "array_example = np.array([[[0, 1, 2, 3],\n",
    "                           [4, 5, 6, 7]],\n",
    "\n",
    "                          [[0, 1, 2, 3],\n",
    "                           [4, 5, 6, 7]],\n",
    "\n",
    "                          [[0 ,1 ,2, 3],\n",
    "                           [4, 5, 6, 7]]])"
   ]
  },
  {
   "cell_type": "markdown",
   "id": "6e5e17ec",
   "metadata": {},
   "source": [
    "To find the number of dimensions of the array, run:"
   ]
  },
  {
   "cell_type": "code",
   "execution_count": 40,
   "id": "3db5f0ec",
   "metadata": {},
   "outputs": [
    {
     "data": {
      "text/plain": [
       "3"
      ]
     },
     "execution_count": 40,
     "metadata": {},
     "output_type": "execute_result"
    }
   ],
   "source": [
    "array_example.ndim"
   ]
  },
  {
   "cell_type": "markdown",
   "id": "c28564a2",
   "metadata": {},
   "source": [
    "To find the total number of elements in the array, run:"
   ]
  },
  {
   "cell_type": "code",
   "execution_count": 41,
   "id": "a9ab7edb",
   "metadata": {},
   "outputs": [
    {
     "data": {
      "text/plain": [
       "24"
      ]
     },
     "execution_count": 41,
     "metadata": {},
     "output_type": "execute_result"
    }
   ],
   "source": [
    "array_example.size"
   ]
  },
  {
   "cell_type": "markdown",
   "id": "a482911f",
   "metadata": {},
   "source": [
    "And to find the shape of your array, run:"
   ]
  },
  {
   "cell_type": "code",
   "execution_count": 42,
   "id": "5a54f722",
   "metadata": {},
   "outputs": [
    {
     "data": {
      "text/plain": [
       "(3, 2, 4)"
      ]
     },
     "execution_count": 42,
     "metadata": {},
     "output_type": "execute_result"
    }
   ],
   "source": [
    "array_example.shape"
   ]
  },
  {
   "cell_type": "markdown",
   "id": "6f20c03f",
   "metadata": {},
   "source": [
    "### 2.2.8. Indexing and slicing\n",
    "\n",
    "You can **index** and **slice** NumPy arrays in the same ways you can slice Python lists."
   ]
  },
  {
   "cell_type": "code",
   "execution_count": 43,
   "id": "e8b911b1",
   "metadata": {},
   "outputs": [],
   "source": [
    "data = np.array([1, 2, 3])"
   ]
  },
  {
   "cell_type": "code",
   "execution_count": 44,
   "id": "f2270960",
   "metadata": {},
   "outputs": [
    {
     "data": {
      "text/plain": [
       "2"
      ]
     },
     "execution_count": 44,
     "metadata": {},
     "output_type": "execute_result"
    }
   ],
   "source": [
    "# Always remember. Indexing starts from 0\n",
    "data[1]"
   ]
  },
  {
   "cell_type": "code",
   "execution_count": 45,
   "id": "adf76685",
   "metadata": {},
   "outputs": [
    {
     "data": {
      "text/plain": [
       "array([1, 2])"
      ]
     },
     "execution_count": 45,
     "metadata": {},
     "output_type": "execute_result"
    }
   ],
   "source": [
    "data[0:2]"
   ]
  },
  {
   "cell_type": "code",
   "execution_count": 46,
   "id": "e5bf6497",
   "metadata": {},
   "outputs": [
    {
     "data": {
      "text/plain": [
       "array([2, 3])"
      ]
     },
     "execution_count": 46,
     "metadata": {},
     "output_type": "execute_result"
    }
   ],
   "source": [
    "data[1:]"
   ]
  },
  {
   "cell_type": "code",
   "execution_count": 47,
   "id": "7564f1b1",
   "metadata": {},
   "outputs": [
    {
     "data": {
      "text/plain": [
       "array([2, 3])"
      ]
     },
     "execution_count": 47,
     "metadata": {},
     "output_type": "execute_result"
    }
   ],
   "source": [
    "data[-2:]"
   ]
  },
  {
   "cell_type": "markdown",
   "id": "e616c5fd",
   "metadata": {},
   "source": [
    "You can visualize it this way:\n",
    "\n",
    "![](https://numpy.org/doc/stable/_images/np_indexing.png)\n",
    "\n",
    "You may want to take a section of your array or specific array elements to use in further analysis or additional operations. To do that, you’ll need to subset, slice, and/or index your arrays.\n",
    "\n",
    "If you want to select values from your array that fulfill certain **conditions**, it’s straightforward with NumPy.\n",
    "\n",
    "For example, if you start with this array:"
   ]
  },
  {
   "cell_type": "code",
   "execution_count": 48,
   "id": "207007f6",
   "metadata": {},
   "outputs": [],
   "source": [
    "a = np.array([[1 , 2, 3, 4], \n",
    "              [5, 6, 7, 8], \n",
    "              [9, 10, 11, 12]])"
   ]
  },
  {
   "cell_type": "markdown",
   "id": "d277b61e",
   "metadata": {},
   "source": [
    "You can easily print all of the values in the array that are less than 5."
   ]
  },
  {
   "cell_type": "code",
   "execution_count": 49,
   "id": "71d7d856",
   "metadata": {},
   "outputs": [
    {
     "name": "stdout",
     "output_type": "stream",
     "text": [
      "[1 2 3 4]\n"
     ]
    }
   ],
   "source": [
    "print(a[a < 5])"
   ]
  },
  {
   "cell_type": "markdown",
   "id": "ad97086e",
   "metadata": {},
   "source": [
    "## 2.3. Array operations\n",
    "\n",
    "## 2.3.1. Basic array opeations\n",
    "\n",
    "This section covers addition, subtraction, multiplication, division, and more\n",
    "\n",
    "Once you’ve created your arrays, you can start to work with them. Let’s say, for example, that you’ve created two arrays, one called **“data”** and one called **“ones”**\n",
    "\n",
    "![](https://numpy.org/doc/stable/_images/np_array_dataones.png)"
   ]
  },
  {
   "cell_type": "code",
   "execution_count": 50,
   "id": "d9e7ec4b",
   "metadata": {},
   "outputs": [],
   "source": [
    "data = np.array([1, 2])\n",
    "ones = np.ones(2, dtype=int)"
   ]
  },
  {
   "cell_type": "markdown",
   "id": "e181ccda",
   "metadata": {},
   "source": [
    "You can add the arrays together with the plus sign."
   ]
  },
  {
   "cell_type": "code",
   "execution_count": 51,
   "id": "3a731014",
   "metadata": {},
   "outputs": [
    {
     "data": {
      "text/plain": [
       "array([2, 3])"
      ]
     },
     "execution_count": 51,
     "metadata": {},
     "output_type": "execute_result"
    }
   ],
   "source": [
    "data + ones"
   ]
  },
  {
   "cell_type": "markdown",
   "id": "10261de1",
   "metadata": {},
   "source": [
    "![](https://numpy.org/doc/stable/_images/np_data_plus_ones.png)\n",
    "\n",
    "You can, of course, do more than just addition!"
   ]
  },
  {
   "cell_type": "code",
   "execution_count": 52,
   "id": "bc658167",
   "metadata": {},
   "outputs": [
    {
     "data": {
      "text/plain": [
       "array([0, 1])"
      ]
     },
     "execution_count": 52,
     "metadata": {},
     "output_type": "execute_result"
    }
   ],
   "source": [
    "data - ones"
   ]
  },
  {
   "cell_type": "code",
   "execution_count": 53,
   "id": "3babcaa3",
   "metadata": {},
   "outputs": [
    {
     "data": {
      "text/plain": [
       "array([1, 4])"
      ]
     },
     "execution_count": 53,
     "metadata": {},
     "output_type": "execute_result"
    }
   ],
   "source": [
    "data * data"
   ]
  },
  {
   "cell_type": "code",
   "execution_count": 54,
   "id": "26c1a74f",
   "metadata": {},
   "outputs": [
    {
     "data": {
      "text/plain": [
       "array([1., 1.])"
      ]
     },
     "execution_count": 54,
     "metadata": {},
     "output_type": "execute_result"
    }
   ],
   "source": [
    "data / data"
   ]
  },
  {
   "cell_type": "markdown",
   "id": "7365a6f9",
   "metadata": {},
   "source": [
    "![](https://numpy.org/doc/stable/_images/np_sub_mult_divide.png)\n",
    "\n",
    "Basic operations are simple with NumPy. If you want to find the sum of the elements in an array, you’d use `sum()`. This works for 1D arrays, 2D arrays, and arrays in higher dimensions."
   ]
  },
  {
   "cell_type": "code",
   "execution_count": 55,
   "id": "1e65f2ee",
   "metadata": {},
   "outputs": [
    {
     "data": {
      "text/plain": [
       "10"
      ]
     },
     "execution_count": 55,
     "metadata": {},
     "output_type": "execute_result"
    }
   ],
   "source": [
    "a = np.array([1, 2, 3, 4])\n",
    "a.sum() # 1+2+3+4=10"
   ]
  },
  {
   "cell_type": "markdown",
   "id": "f3a73c4f",
   "metadata": {},
   "source": [
    "### 2.3.3. More useful array operations\n",
    "\n",
    "This section covers **maximum, minimum, sum, mean, product, standard deviation**\n",
    "\n",
    "NumPy also performs aggregation functions. In addition to `min`, `max`, and `sum`, you can easily run `mean` to get the average, `prod` to get the result of multiplying the elements together, `std` to get the standard deviation, and more."
   ]
  },
  {
   "cell_type": "code",
   "execution_count": 56,
   "id": "14f10231",
   "metadata": {},
   "outputs": [],
   "source": [
    "data = np.array([1.0, 2.0, 3.0])"
   ]
  },
  {
   "cell_type": "code",
   "execution_count": 57,
   "id": "7e5bb093",
   "metadata": {},
   "outputs": [
    {
     "data": {
      "text/plain": [
       "3.0"
      ]
     },
     "execution_count": 57,
     "metadata": {},
     "output_type": "execute_result"
    }
   ],
   "source": [
    "data.max()"
   ]
  },
  {
   "cell_type": "code",
   "execution_count": 58,
   "id": "c233d582",
   "metadata": {},
   "outputs": [
    {
     "data": {
      "text/plain": [
       "1.0"
      ]
     },
     "execution_count": 58,
     "metadata": {},
     "output_type": "execute_result"
    }
   ],
   "source": [
    "data.min()"
   ]
  },
  {
   "cell_type": "code",
   "execution_count": 59,
   "id": "201a2f2d",
   "metadata": {},
   "outputs": [
    {
     "data": {
      "text/plain": [
       "6.0"
      ]
     },
     "execution_count": 59,
     "metadata": {},
     "output_type": "execute_result"
    }
   ],
   "source": [
    "data.sum()"
   ]
  },
  {
   "cell_type": "markdown",
   "id": "5cb4f2c0",
   "metadata": {},
   "source": [
    "![](https://numpy.org/doc/stable/_images/np_aggregation.png)\n",
    "\n",
    "Let’s start with this array, called “a”"
   ]
  },
  {
   "cell_type": "code",
   "execution_count": 60,
   "id": "2f5b1b5c",
   "metadata": {},
   "outputs": [],
   "source": [
    "a = np.array([[0.45053314, 0.17296777, 0.34376245, 0.5510652],\n",
    "              [0.54627315, 0.05093587, 0.40067661, 0.55645993],\n",
    "              [0.12697628, 0.82485143, 0.26590556, 0.56917101]])"
   ]
  },
  {
   "cell_type": "markdown",
   "id": "55b6bad7",
   "metadata": {},
   "source": [
    "It’s very common to want to aggregate along a **row** or **column**. By default, every NumPy aggregation function will return the aggregate of the entire array. To find the sum or the minimum of the elements in your array, run:"
   ]
  },
  {
   "cell_type": "code",
   "execution_count": 61,
   "id": "1f897c82",
   "metadata": {},
   "outputs": [
    {
     "data": {
      "text/plain": [
       "4.8595784"
      ]
     },
     "execution_count": 61,
     "metadata": {},
     "output_type": "execute_result"
    }
   ],
   "source": [
    "a.sum()"
   ]
  },
  {
   "cell_type": "code",
   "execution_count": 62,
   "id": "67af4b95",
   "metadata": {},
   "outputs": [
    {
     "data": {
      "text/plain": [
       "0.05093587"
      ]
     },
     "execution_count": 62,
     "metadata": {},
     "output_type": "execute_result"
    }
   ],
   "source": [
    "a.min()"
   ]
  },
  {
   "cell_type": "markdown",
   "id": "7a4409c8",
   "metadata": {},
   "source": [
    "You can specify on which axis you want the aggregation function to be computed. For example, you can find the minimum value within each **column** by specifying `axis=0`."
   ]
  },
  {
   "cell_type": "code",
   "execution_count": 63,
   "id": "10993838",
   "metadata": {},
   "outputs": [
    {
     "data": {
      "text/plain": [
       "array([0.12697628, 0.05093587, 0.26590556, 0.5510652 ])"
      ]
     },
     "execution_count": 63,
     "metadata": {},
     "output_type": "execute_result"
    }
   ],
   "source": [
    "a.min(axis=0)"
   ]
  },
  {
   "cell_type": "markdown",
   "id": "52ac682a",
   "metadata": {},
   "source": [
    "# 3. Pandas\n",
    "\n",
    "Pandas is a Python library used for working with data sets. It has functions for analyzing, cleaning, exploring, and manipulating data.\n",
    "\n",
    "Pandas allows us to analyze big data and make conclusions based on statistical theories. Pandas can clean messy data sets, and make them readable and relevant. Relevant data is very important in data science.\n",
    "\n",
    "When working with **tabular or structured data**, we can do following things easily:\n",
    "\n",
    "- Import data\n",
    "- Clean up messy data\n",
    "- Explore data, gain insight into data\n",
    "- Process and prepare your data for analysis\n",
    "- Analyse your data (together with scikit-learn, statsmodels, ...)\n",
    "\n",
    "## 3.1. How to Use Pandas\n",
    "\n",
    "Do you remember how we used **numpy** library? We **imported** the numpy using `import numpy as np`. We will do simliar thing with Pandas.\n",
    "\n",
    "To access **Pandas** and its functions import it in your Python code like this:"
   ]
  },
  {
   "cell_type": "code",
   "execution_count": null,
   "id": "28370a4c",
   "metadata": {},
   "outputs": [],
   "source": [
    "import numpy as np"
   ]
  },
  {
   "cell_type": "code",
   "execution_count": null,
   "id": "2b9c0c51",
   "metadata": {},
   "outputs": [],
   "source": [
    "import pandas as pd"
   ]
  },
  {
   "cell_type": "markdown",
   "id": "1e8620e3",
   "metadata": {},
   "source": [
    "We shorten the imported name to `pd` for better readability of code using **Pandas**. This is a widely adopted convention that makes your code more readable for everyone working on it. We recommend to always use `import pandas as pd`.\n",
    "\n",
    "## 3.2. Data structures in Pandas\n",
    "\n",
    "We will learn about two data structures provided by Pandas, `Series` and `DataFrame`\n",
    "\n",
    "### 3.2.1 Series\n",
    "\n",
    "`Series` is a one-dimensional labeled array capable of holding any data type (integers, strings, floating point numbers, Python objects, etc.). The axis labels are collectively referred to as the **index**. \n",
    "\n",
    "You can think of each `Series` as **one column of excel sheet**.\n",
    "\n",
    "The basic method to create a `Series` is to call:"
   ]
  },
  {
   "cell_type": "code",
   "execution_count": null,
   "id": "8bd5fc5f",
   "metadata": {},
   "outputs": [],
   "source": [
    "s = pd.Series([1, 3, 5, 4, 6, 8])\n",
    "print(s)"
   ]
  },
  {
   "cell_type": "markdown",
   "id": "d6f1d2d8",
   "metadata": {},
   "source": [
    "Above, the fist column is index. Since we did not defined the index while creating a series `s`, `s` has a default index, which starts from 0.\n",
    "\n",
    "The second column is the values in `s`. We gave the list ([1, 3, 5, 4, 6, 8]) as the input to create `s`, so the values in the list ([1, 3, 5, 4, 6, 8]) become the values.\n",
    "\n",
    "Since every value in `s` are integers, the datatype of `s` becomes `int64`."
   ]
  },
  {
   "cell_type": "code",
   "execution_count": null,
   "id": "ab0c04da",
   "metadata": {},
   "outputs": [],
   "source": [
    "s = pd.Series([1, 3.5, 5, 4, 6.2, 8])\n",
    "print(s)"
   ]
  },
  {
   "cell_type": "markdown",
   "id": "4613db4b",
   "metadata": {},
   "source": [
    "When there are both integers and floating points numbers inside the list given to `s`, the datatype of `s` becomes `float64`.\n",
    "\n",
    "We can also define the index of `Series` like this:"
   ]
  },
  {
   "cell_type": "code",
   "execution_count": null,
   "id": "a0184bb5",
   "metadata": {},
   "outputs": [],
   "source": [
    "s = pd.Series([1, 3.5, 5, 4, 6.2, 8], index=['a', 'b', 'c', 'd', 'e', 'f'])\n",
    "print(s)"
   ]
  },
  {
   "cell_type": "markdown",
   "id": "12c488d3",
   "metadata": {},
   "source": [
    "The `index` keyword in `pd.Series(,index=)` defines what the index of Series will be."
   ]
  },
  {
   "cell_type": "markdown",
   "id": "63db11e6",
   "metadata": {},
   "source": [
    "### 3.2.2. DataFrame\n",
    "\n",
    "While `Series` is a one-dimensional labeled array, `DataFrame` is a two-dimensional data structure that holds data likea two-dimension array or a table with rows and columns.\n",
    "\n",
    "Therefore, `DataFrame` is just like the each excel sheet. You will mostly use `DataFrame` when analyzing data.\n",
    "\n",
    "You can create a `DataFrame` using `dictionary` like follows:"
   ]
  },
  {
   "cell_type": "code",
   "execution_count": null,
   "id": "8ab16cf3",
   "metadata": {},
   "outputs": [],
   "source": [
    "df = pd.DataFrame({'Apples': [1,3,7,4],\n",
    "                  'Bananas': [2,6,3,5]})"
   ]
  },
  {
   "cell_type": "code",
   "execution_count": null,
   "id": "62c12083",
   "metadata": {},
   "outputs": [],
   "source": [
    "df"
   ]
  },
  {
   "cell_type": "markdown",
   "id": "2a866bc3",
   "metadata": {},
   "source": [
    "To summarize, `DataFrame` is like the excel sheet containing multiple columns, and each columns in `DataFrame` is `Series`.\n",
    "\n",
    "![](https://codetorial.net/pandas/_images/object_creation_01.png)"
   ]
  },
  {
   "cell_type": "markdown",
   "id": "7e396436",
   "metadata": {},
   "source": [
    "## 3.3. Reading csv file using Pandas\n",
    "\n",
    "csv file is the excel file, which is easy to read and write using Python (Pandas). You can read the contents in csv file and create it as the `DataFrame` using Pandas.\n",
    "\n",
    "For the rest of the tutorial, we will use the csv file named `titanic.csv`. You have to place it in the same directory with this `.ipynb` file. (ex. If this `lab_3.ipynb` file is located in `C:/Documents`, `titanic.csv` should also be in `C:/Documents` too.)\n",
    "\n",
    "Then, we can read the csv file like follows:"
   ]
  },
  {
   "cell_type": "code",
   "execution_count": null,
   "id": "ee873268",
   "metadata": {},
   "outputs": [],
   "source": [
    "df = pd.read_csv(\"titanic.csv\")"
   ]
  },
  {
   "cell_type": "code",
   "execution_count": null,
   "id": "97dc5984",
   "metadata": {},
   "outputs": [],
   "source": [
    "df"
   ]
  },
  {
   "cell_type": "markdown",
   "id": "4e3f2225",
   "metadata": {},
   "source": [
    "There are 12 columns. If we want to set the `PassengerId` column as the index of `DataFrame`, we can use `index_col` like follows:"
   ]
  },
  {
   "cell_type": "code",
   "execution_count": null,
   "id": "7754ab95",
   "metadata": {},
   "outputs": [],
   "source": [
    "df = pd.read_csv(\"titanic.csv\", index_col=0)"
   ]
  },
  {
   "cell_type": "code",
   "execution_count": null,
   "id": "5f53eae2",
   "metadata": {},
   "outputs": [],
   "source": [
    "df"
   ]
  },
  {
   "cell_type": "markdown",
   "id": "b86d29e3",
   "metadata": {},
   "source": [
    "`index_col=0` means that we will set the first (always remember. In Python, 0 is the first) column as `index` of `DataFrame`.\n",
    "\n",
    "We can check the `index` using `.index`"
   ]
  },
  {
   "cell_type": "code",
   "execution_count": null,
   "id": "8549c053",
   "metadata": {},
   "outputs": [],
   "source": [
    "df.index"
   ]
  },
  {
   "cell_type": "markdown",
   "id": "9afe378c",
   "metadata": {},
   "source": [
    "## 3.4. Viewing Data\n",
    "\n",
    "We will learn about various methods of viewing data in `Pandas` data structures.\n",
    "\n",
    "### 3.4.1. df.head() and df.tail()\n",
    "\n",
    "To view the top and bottoms rows of the dataframe, we can use `df.head()` and `df.tail()`, respectively."
   ]
  },
  {
   "cell_type": "code",
   "execution_count": null,
   "id": "515dd12d",
   "metadata": {},
   "outputs": [],
   "source": [
    "df.head()"
   ]
  },
  {
   "cell_type": "code",
   "execution_count": null,
   "id": "71b32fe4",
   "metadata": {},
   "outputs": [],
   "source": [
    "df.tail()"
   ]
  },
  {
   "cell_type": "markdown",
   "id": "307ae741",
   "metadata": {},
   "source": [
    "If we want to see top 3 rows, we can use `df.head(3)`"
   ]
  },
  {
   "cell_type": "code",
   "execution_count": null,
   "id": "e0ddd013",
   "metadata": {},
   "outputs": [],
   "source": [
    "df.head(3)"
   ]
  },
  {
   "cell_type": "markdown",
   "id": "38dc4272",
   "metadata": {},
   "source": [
    "### 3.4.2. df.index and df.columns\n",
    "\n",
    "We can check the index and column names using `df.index` and `df.columns`."
   ]
  },
  {
   "cell_type": "code",
   "execution_count": null,
   "id": "f4335104",
   "metadata": {},
   "outputs": [],
   "source": [
    "df.index"
   ]
  },
  {
   "cell_type": "code",
   "execution_count": null,
   "id": "8e888522",
   "metadata": {},
   "outputs": [],
   "source": [
    "df.columns"
   ]
  },
  {
   "cell_type": "markdown",
   "id": "91c6593e",
   "metadata": {},
   "source": [
    "### 3.4.3. df.to_numpy()\n",
    "\n",
    "`Numpy` and `Pandas` are very compatible libraries. We can change `DataFrame` datatype to `Numpy array` datatype using `df.to_numpy()`."
   ]
  },
  {
   "cell_type": "code",
   "execution_count": null,
   "id": "a8424227",
   "metadata": {},
   "outputs": [],
   "source": [
    "df.to_numpy()"
   ]
  },
  {
   "cell_type": "markdown",
   "id": "71ec10c8",
   "metadata": {},
   "source": [
    "### 3.4.4. df.describe()\n",
    "\n",
    "`df.describe` shows a quick statistic summary of data. (only numerical columns)"
   ]
  },
  {
   "cell_type": "code",
   "execution_count": null,
   "id": "05e5ffaa",
   "metadata": {},
   "outputs": [],
   "source": [
    "df.describe()"
   ]
  }
 ],
 "metadata": {
  "kernelspec": {
   "display_name": "Python 3 (ipykernel)",
   "language": "python",
   "name": "python3"
  },
  "language_info": {
   "codemirror_mode": {
    "name": "ipython",
    "version": 3
   },
   "file_extension": ".py",
   "mimetype": "text/x-python",
   "name": "python",
   "nbconvert_exporter": "python",
   "pygments_lexer": "ipython3",
   "version": "3.9.13"
  }
 },
 "nbformat": 4,
 "nbformat_minor": 5
}
